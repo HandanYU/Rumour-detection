{
 "cells": [
  {
   "cell_type": "code",
   "execution_count": 1,
   "id": "051e66a9-79af-49a1-94c5-1dda0316de0a",
   "metadata": {
    "tags": []
   },
   "outputs": [
    {
     "name": "stderr",
     "output_type": "stream",
     "text": [
      "100%|██████████████████████████████████████████████████████████████████████████| 20321/20321 [00:11<00:00, 1846.72it/s]\n"
     ]
    }
   ],
   "source": [
    "import os\n",
    "import json\n",
    "from tqdm import tqdm\n",
    "\n",
    "def merge_json(data_type, source_or_reply, ids_list):\n",
    "    # merged_json: \"test_source.json\"\n",
    "    merges_file = f'./tweepy_data/objects/{data_type}_{source_or_reply}.json'\n",
    "    path_results = f'./reply'\n",
    "    with open(merges_file, \"w\", encoding=\"utf-8\") as f0:\n",
    "        for file in tqdm(os.listdir(path_results)):\n",
    "            if file.split('.')[0] in ids_list:\n",
    "                with open(os.path.join(path_results, file), \"r\", encoding=\"utf-8\") as f1:\n",
    "                    for line in f1:\n",
    "                        line_dict = json.loads(line)\n",
    "                        js = json.dumps(line_dict, ensure_ascii=False)\n",
    "                        f0.write(js + '\\n')\n",
    "                    f1.close()\n",
    "        f0.close()\n",
    "with open('train_reply.txt', 'r') as f:\n",
    "    content = f.readlines()\n",
    "reply_ids = [c.strip() for c in content]\n",
    "merge_json('train','reply', reply_ids)\n"
   ]
  },
  {
   "cell_type": "code",
   "execution_count": null,
   "id": "d0ca711b-f5c0-44cd-a4e5-91805727bc7a",
   "metadata": {},
   "outputs": [],
   "source": []
  }
 ],
 "metadata": {
  "kernelspec": {
   "display_name": "Pytorch",
   "language": "python",
   "name": "pytorch"
  },
  "language_info": {
   "codemirror_mode": {
    "name": "ipython",
    "version": 3
   },
   "file_extension": ".py",
   "mimetype": "text/x-python",
   "name": "python",
   "nbconvert_exporter": "python",
   "pygments_lexer": "ipython3",
   "version": "3.8.12"
  }
 },
 "nbformat": 4,
 "nbformat_minor": 5
}
