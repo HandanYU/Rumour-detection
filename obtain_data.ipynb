{
 "cells": [
  {
   "cell_type": "markdown",
   "metadata": {
    "colab_type": "text",
    "id": "view-in-github"
   },
   "source": [
    "<a href=\"https://colab.research.google.com/github/HandanYU/Rumour-detection/blob/main/obtain_data.ipynb\" target=\"_parent\"><img src=\"https://colab.research.google.com/assets/colab-badge.svg\" alt=\"Open In Colab\"/></a>"
   ]
  },
  {
   "cell_type": "markdown",
   "metadata": {
    "id": "j6ES8bVt7_mL"
   },
   "source": [
    "# 1. split source reply ids"
   ]
  },
  {
   "cell_type": "code",
   "execution_count": 34,
   "metadata": {},
   "outputs": [],
   "source": [
    "from utils import timer"
   ]
  },
  {
   "cell_type": "code",
   "execution_count": 35,
   "metadata": {
    "id": "aCDBWMxE633r"
   },
   "outputs": [],
   "source": [
    "@timer('ms')\n",
    "def split_source_reply(txt_file):\n",
    "  \"\"\"\n",
    "  txt_file: 'train.data.txt'\n",
    "  \"\"\"\n",
    "    with open(txt_file) as f:\n",
    "        ids = f.readlines()\n",
    "    source_ids = []\n",
    "    reply_ids = []\n",
    "    source_txt_file = txt_file.split('.')[0] + '_source_data.txt'\n",
    "    reply_txt_file = txt_file.split('.')[0] + '_reply_data.txt'\n",
    "    for i in range(len(ids)):\n",
    "        source_ids.append(ids[i].split(',')[0].strip())\n",
    "        reply_ids.extend([r.strip() for r in ids[i].split(',')[1:]])\n",
    "  # save source_ids\n",
    "    with open(source_txt_file,'w') as f:\n",
    "        for i in source_ids:\n",
    "            f.write(i)\n",
    "            f.write('\\n')\n",
    "  # save reply_ids\n",
    "    with open(reply_txt_file,'w') as f:\n",
    "        for i in reply_ids:\n",
    "        f.write(i)\n",
    "        f.write('\\n')\n",
    "# split_source_reply('dev.data.txt')"
   ]
  },
  {
   "cell_type": "markdown",
   "metadata": {
    "id": "6THaa5Px6v6b"
   },
   "source": [
    "# 2. Crawl tweet"
   ]
  },
  {
   "cell_type": "code",
   "execution_count": null,
   "metadata": {
    "id": "5CvCIHQI6mwz"
   },
   "outputs": [],
   "source": [
    "# !twarc2 hydrate  dev.txt > dev_reply_data.jsonl\n",
    "# resource: https://scholarslab.github.io/learn-twarc/06-twarc-command-basics.html"
   ]
  },
  {
   "cell_type": "markdown",
   "metadata": {
    "id": "XhcR1aXv62R_"
   },
   "source": [
    "# 3. Get features"
   ]
  },
  {
   "cell_type": "code",
   "execution_count": 36,
   "metadata": {
    "id": "Qg_VrPBz6gxy"
   },
   "outputs": [],
   "source": [
    "from collections import defaultdict\n",
    "import json\n",
    "import pandas as pd\n",
    "\n",
    "\n",
    "@timer('ms')\n",
    "def filter_text_reply_count(jsonl_file_name):\n",
    "    \"\"\"\n",
    "    jsonl_file_name: 'dev_source_data.jsonl'\n",
    "    \"\"\"\n",
    "    json_file_name = '_'.join(jsonl_file_name.split('_')[:-1]) + '.json'\n",
    "    json_data = pd.read_json(path_or_buf=jsonl_file_name, lines=True)\n",
    "    data_dict = defaultdict(dict)\n",
    "    for i in range(json_data.shape[0]):\n",
    "        for j in range(len(json_data.data.iloc[i])):\n",
    "            data_dict[json_data.data.iloc[i][j]['id']]['text'] = json_data.data.iloc[i][j]['text']\n",
    "            data_dict[json_data.data.iloc[i][j]['id']]['reply_count'] = json_data.data.iloc[i][j]['public_metrics']['reply_count']\n",
    "            data_dict[json_data.data.iloc[i][j]['id']]['like_count'] = json_data.data.iloc[i][j]['public_metrics']['like_count']\n",
    "            data_dict[json_data.data.iloc[i][j]['id']]['retweet_count'] = json_data.data.iloc[i][j]['public_metrics']['retweet_count']\n",
    "            data_dict[json_data.data.iloc[i][j]['id']]['quote_count'] = json_data.data.iloc[i][j]['public_metrics']['quote_count']\n",
    "            data_dict[json_data.data.iloc[i][j]['id']]['possibly_sensitive'] = json_data.data.iloc[i][j]['possibly_sensitive']\n",
    "            data_dict[json_data.data.iloc[i][j]['id']]['created_at'] = json_data.data.iloc[i][j]['created_at'] #add create time\n",
    "\n",
    "    #  convert into json format\n",
    "    dict_json=json.dumps(data_dict)\n",
    "    # save json file\n",
    "    with open(json_file_name, 'w+') as file:\n",
    "        file.write(dict_json)\n",
    "# filter_text_reply_count('dev_reply_data.jsonl')"
   ]
  },
  {
   "cell_type": "markdown",
   "metadata": {
    "id": "sZWI7VYPDIY0"
   },
   "source": [
    "# 4. Convert json to dataframe"
   ]
  },
  {
   "cell_type": "code",
   "execution_count": null,
   "metadata": {
    "id": "sbxtCKh2DHmN"
   },
   "outputs": [],
   "source": [
    "def json2df(json_file):\n",
    "    \"\"\"\n",
    "    json_file: 'train_reply.json'\n",
    "    \"\"\"\n",
    "    with open(json_file,'r+') as file:\n",
    "        content=file.read()\n",
    "    content=json.loads(content)#将json格式文件转化为python的字典文件\n",
    "    df = pd.DataFrame(content)\n",
    "    df = df.stack()\n",
    "    df = df.unstack(0)\n",
    "    return df\n",
    "# df = json2df('train_reply.json')"
   ]
  },
  {
   "cell_type": "markdown",
   "metadata": {},
   "source": [
    "### dump data"
   ]
  },
  {
   "cell_type": "code",
   "execution_count": 37,
   "metadata": {},
   "outputs": [
    {
     "name": "stdout",
     "output_type": "stream",
     "text": [
      "Call filter_text_reply_count in 139.95122909545898 ms\n",
      "Call filter_text_reply_count in 1867.9132461547852 ms\n",
      "Call filter_text_reply_count in 399.7769355773926 ms\n",
      "Call filter_text_reply_count in 5313.995122909546 ms\n"
     ]
    }
   ],
   "source": [
    "jsonls = ['./full data/dev_source_data.jsonl',\n",
    "          './full data/dev_reply_data.jsonl',\n",
    "          './full data/train_source_data.jsonl',\n",
    "          './full data/train_reply_data.jsonl']\n",
    "\n",
    "for jsonl in jsonls:\n",
    "    filter_text_reply_count(jsonl)"
   ]
  },
  {
   "cell_type": "code",
   "execution_count": null,
   "metadata": {},
   "outputs": [],
   "source": []
  }
 ],
 "metadata": {
  "colab": {
   "authorship_tag": "ABX9TyMHgShQ0IwgSBKh9Qpb89Fv",
   "collapsed_sections": [],
   "include_colab_link": true,
   "name": "obtain data.ipynb",
   "provenance": []
  },
  "kernelspec": {
   "display_name": "Python 3 (ipykernel)",
   "language": "python",
   "name": "python3"
  },
  "language_info": {
   "codemirror_mode": {
    "name": "ipython",
    "version": 3
   },
   "file_extension": ".py",
   "mimetype": "text/x-python",
   "name": "python",
   "nbconvert_exporter": "python",
   "pygments_lexer": "ipython3",
   "version": "3.8.12"
  }
 },
 "nbformat": 4,
 "nbformat_minor": 4
}
