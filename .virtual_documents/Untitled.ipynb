import torch


a = torch.FloatTensor([[1,2,3],[4,5,6]])
torch.norm(a, dim=1)


def cos_sim(a,b):
    norm_a = torch.norm(a, dim=1)
    norm_b = torch.norm(b, dim=0)
    return torch.mm(a,b)/torch.mm(norm_a.unsqueeze(1), norm_b.unsqueeze(0))


b = a.T


cos_sim(a,-b)


torch.sum(c)


d = torch.tensor([0,1])
a[d==1]


torch.log(d)






