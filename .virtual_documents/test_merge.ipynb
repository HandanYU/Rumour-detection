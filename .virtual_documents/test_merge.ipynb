import os
import json
from tqdm import tqdm

def merge_json(data_type, source_or_reply, ids_list):
    # merged_json: "test_source.json"
    merges_file = f'./tweepy_data/objects/{data_type}_{source_or_reply}.json'
    path_results = f'./reply'
    with open(merges_file, "w", encoding="utf-8") as f0:
        for file in tqdm(os.listdir(path_results)):
            if file.split('.')[0] in ids_list:
                with open(os.path.join(path_results, file), "r", encoding="utf-8") as f1:
                    for line in f1:
                        line_dict = json.loads(line)
                        js = json.dumps(line_dict, ensure_ascii=False)
                        f0.write(js + '\n')
                    f1.close()
        f0.close()
with open('train_reply.txt', 'r') as f:
    content = f.readlines()
reply_ids = [c.strip() for c in content]
merge_json('train','reply', reply_ids)




