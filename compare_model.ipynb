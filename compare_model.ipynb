{
 "cells": [
  {
   "cell_type": "code",
   "execution_count": null,
   "metadata": {},
   "outputs": [],
   "source": [
    "import numpy as np\n",
    "import matplotlib.pyplot as plt\n",
    "import pylab as pl\n",
    "from mpl_toolkits.axes_grid1.inset_locator import inset_axes\n",
    "\n",
    "\n",
    "with open('./log/log_lstm.txt', 'r') as f:\n",
    "    content = f.readlines()\n",
    "loss = []\n",
    "for c in content:\n",
    "    if 'avg_loss:' in c:\n",
    "        loss.append(float(c.split('avg_loss: ')[-1].strip()))\n",
    "\n",
    "with open('./log/log_cnn_1.txt', 'r') as f:\n",
    "    content = f.readlines()\n",
    "loss1 = []\n",
    "for c in content:\n",
    "    if 'avg_loss:' in c:\n",
    "        loss1.append(float(c.split('avg_loss: ')[-1].strip()))\n",
    "\n",
    "\n",
    "fig = plt.figure(figsize = (7,5)) \n",
    "ax1 = fig.add_subplot(1, 1, 1) \n",
    "x = list(range(20))\n",
    "p2 = pl.plot(x, loss,'r-', label = u'LSTM')\n",
    "pl.legend()\n",
    "p3 = pl.plot(x,loss1, 'b-', label = u'CNN')\n",
    "pl.legend()\n",
    "my_x_ticks = np.arange(0, 21, 5)\n",
    "plt.xticks(my_x_ticks)\n",
    "pl.xlabel(u'epoches')\n",
    "pl.ylabel(u'loss')\n",
    "plt.title('Compare loss for different models in training')"
   ]
  }
 ],
 "metadata": {
  "language_info": {
   "name": "python"
  },
  "orig_nbformat": 4
 },
 "nbformat": 4,
 "nbformat_minor": 2
}
