{
  "nbformat": 4,
  "nbformat_minor": 0,
  "metadata": {
    "colab": {
      "name": "Untitled0.ipynb",
      "provenance": [],
      "collapsed_sections": [],
      "authorship_tag": "ABX9TyNFrDV78+us8tbfotgtEQ9A",
      "include_colab_link": true
    },
    "kernelspec": {
      "name": "python3",
      "display_name": "Python 3"
    },
    "language_info": {
      "name": "python"
    },
    "widgets": {
      "application/vnd.jupyter.widget-state+json": {
        "0d7936ba61704456bc0c15ca814e93ac": {
          "model_module": "@jupyter-widgets/controls",
          "model_name": "HBoxModel",
          "model_module_version": "1.5.0",
          "state": {
            "_dom_classes": [],
            "_model_module": "@jupyter-widgets/controls",
            "_model_module_version": "1.5.0",
            "_model_name": "HBoxModel",
            "_view_count": null,
            "_view_module": "@jupyter-widgets/controls",
            "_view_module_version": "1.5.0",
            "_view_name": "HBoxView",
            "box_style": "",
            "children": [
              "IPY_MODEL_bf5e221221a0471aa988824bbe3be32e",
              "IPY_MODEL_86ec4a5c9ff34384afd15de8f1b7827a",
              "IPY_MODEL_b2b0fbe343ce44c5bf5efc31f517bf9d"
            ],
            "layout": "IPY_MODEL_8cc11ec884e244088906473bf935547e"
          }
        },
        "bf5e221221a0471aa988824bbe3be32e": {
          "model_module": "@jupyter-widgets/controls",
          "model_name": "HTMLModel",
          "model_module_version": "1.5.0",
          "state": {
            "_dom_classes": [],
            "_model_module": "@jupyter-widgets/controls",
            "_model_module_version": "1.5.0",
            "_model_name": "HTMLModel",
            "_view_count": null,
            "_view_module": "@jupyter-widgets/controls",
            "_view_module_version": "1.5.0",
            "_view_name": "HTMLView",
            "description": "",
            "description_tooltip": null,
            "layout": "IPY_MODEL_31a7a2385be94025b615901202cb3550",
            "placeholder": "​",
            "style": "IPY_MODEL_847d6b1c886d477d96f606866f75e48f",
            "value": "Downloading: 100%"
          }
        },
        "86ec4a5c9ff34384afd15de8f1b7827a": {
          "model_module": "@jupyter-widgets/controls",
          "model_name": "FloatProgressModel",
          "model_module_version": "1.5.0",
          "state": {
            "_dom_classes": [],
            "_model_module": "@jupyter-widgets/controls",
            "_model_module_version": "1.5.0",
            "_model_name": "FloatProgressModel",
            "_view_count": null,
            "_view_module": "@jupyter-widgets/controls",
            "_view_module_version": "1.5.0",
            "_view_name": "ProgressView",
            "bar_style": "success",
            "description": "",
            "description_tooltip": null,
            "layout": "IPY_MODEL_b30120c1e4614a41a0f1060c82e8c993",
            "max": 440473133,
            "min": 0,
            "orientation": "horizontal",
            "style": "IPY_MODEL_eb96482bee3648beadd7e2cd36750e54",
            "value": 440473133
          }
        },
        "b2b0fbe343ce44c5bf5efc31f517bf9d": {
          "model_module": "@jupyter-widgets/controls",
          "model_name": "HTMLModel",
          "model_module_version": "1.5.0",
          "state": {
            "_dom_classes": [],
            "_model_module": "@jupyter-widgets/controls",
            "_model_module_version": "1.5.0",
            "_model_name": "HTMLModel",
            "_view_count": null,
            "_view_module": "@jupyter-widgets/controls",
            "_view_module_version": "1.5.0",
            "_view_name": "HTMLView",
            "description": "",
            "description_tooltip": null,
            "layout": "IPY_MODEL_ae81b1d6bc3c487f823bb1f5555f51aa",
            "placeholder": "​",
            "style": "IPY_MODEL_751e2848b379420ab33858b0aada0a53",
            "value": " 420M/420M [00:11&lt;00:00, 36.6MB/s]"
          }
        },
        "8cc11ec884e244088906473bf935547e": {
          "model_module": "@jupyter-widgets/base",
          "model_name": "LayoutModel",
          "model_module_version": "1.2.0",
          "state": {
            "_model_module": "@jupyter-widgets/base",
            "_model_module_version": "1.2.0",
            "_model_name": "LayoutModel",
            "_view_count": null,
            "_view_module": "@jupyter-widgets/base",
            "_view_module_version": "1.2.0",
            "_view_name": "LayoutView",
            "align_content": null,
            "align_items": null,
            "align_self": null,
            "border": null,
            "bottom": null,
            "display": null,
            "flex": null,
            "flex_flow": null,
            "grid_area": null,
            "grid_auto_columns": null,
            "grid_auto_flow": null,
            "grid_auto_rows": null,
            "grid_column": null,
            "grid_gap": null,
            "grid_row": null,
            "grid_template_areas": null,
            "grid_template_columns": null,
            "grid_template_rows": null,
            "height": null,
            "justify_content": null,
            "justify_items": null,
            "left": null,
            "margin": null,
            "max_height": null,
            "max_width": null,
            "min_height": null,
            "min_width": null,
            "object_fit": null,
            "object_position": null,
            "order": null,
            "overflow": null,
            "overflow_x": null,
            "overflow_y": null,
            "padding": null,
            "right": null,
            "top": null,
            "visibility": null,
            "width": null
          }
        },
        "31a7a2385be94025b615901202cb3550": {
          "model_module": "@jupyter-widgets/base",
          "model_name": "LayoutModel",
          "model_module_version": "1.2.0",
          "state": {
            "_model_module": "@jupyter-widgets/base",
            "_model_module_version": "1.2.0",
            "_model_name": "LayoutModel",
            "_view_count": null,
            "_view_module": "@jupyter-widgets/base",
            "_view_module_version": "1.2.0",
            "_view_name": "LayoutView",
            "align_content": null,
            "align_items": null,
            "align_self": null,
            "border": null,
            "bottom": null,
            "display": null,
            "flex": null,
            "flex_flow": null,
            "grid_area": null,
            "grid_auto_columns": null,
            "grid_auto_flow": null,
            "grid_auto_rows": null,
            "grid_column": null,
            "grid_gap": null,
            "grid_row": null,
            "grid_template_areas": null,
            "grid_template_columns": null,
            "grid_template_rows": null,
            "height": null,
            "justify_content": null,
            "justify_items": null,
            "left": null,
            "margin": null,
            "max_height": null,
            "max_width": null,
            "min_height": null,
            "min_width": null,
            "object_fit": null,
            "object_position": null,
            "order": null,
            "overflow": null,
            "overflow_x": null,
            "overflow_y": null,
            "padding": null,
            "right": null,
            "top": null,
            "visibility": null,
            "width": null
          }
        },
        "847d6b1c886d477d96f606866f75e48f": {
          "model_module": "@jupyter-widgets/controls",
          "model_name": "DescriptionStyleModel",
          "model_module_version": "1.5.0",
          "state": {
            "_model_module": "@jupyter-widgets/controls",
            "_model_module_version": "1.5.0",
            "_model_name": "DescriptionStyleModel",
            "_view_count": null,
            "_view_module": "@jupyter-widgets/base",
            "_view_module_version": "1.2.0",
            "_view_name": "StyleView",
            "description_width": ""
          }
        },
        "b30120c1e4614a41a0f1060c82e8c993": {
          "model_module": "@jupyter-widgets/base",
          "model_name": "LayoutModel",
          "model_module_version": "1.2.0",
          "state": {
            "_model_module": "@jupyter-widgets/base",
            "_model_module_version": "1.2.0",
            "_model_name": "LayoutModel",
            "_view_count": null,
            "_view_module": "@jupyter-widgets/base",
            "_view_module_version": "1.2.0",
            "_view_name": "LayoutView",
            "align_content": null,
            "align_items": null,
            "align_self": null,
            "border": null,
            "bottom": null,
            "display": null,
            "flex": null,
            "flex_flow": null,
            "grid_area": null,
            "grid_auto_columns": null,
            "grid_auto_flow": null,
            "grid_auto_rows": null,
            "grid_column": null,
            "grid_gap": null,
            "grid_row": null,
            "grid_template_areas": null,
            "grid_template_columns": null,
            "grid_template_rows": null,
            "height": null,
            "justify_content": null,
            "justify_items": null,
            "left": null,
            "margin": null,
            "max_height": null,
            "max_width": null,
            "min_height": null,
            "min_width": null,
            "object_fit": null,
            "object_position": null,
            "order": null,
            "overflow": null,
            "overflow_x": null,
            "overflow_y": null,
            "padding": null,
            "right": null,
            "top": null,
            "visibility": null,
            "width": null
          }
        },
        "eb96482bee3648beadd7e2cd36750e54": {
          "model_module": "@jupyter-widgets/controls",
          "model_name": "ProgressStyleModel",
          "model_module_version": "1.5.0",
          "state": {
            "_model_module": "@jupyter-widgets/controls",
            "_model_module_version": "1.5.0",
            "_model_name": "ProgressStyleModel",
            "_view_count": null,
            "_view_module": "@jupyter-widgets/base",
            "_view_module_version": "1.2.0",
            "_view_name": "StyleView",
            "bar_color": null,
            "description_width": ""
          }
        },
        "ae81b1d6bc3c487f823bb1f5555f51aa": {
          "model_module": "@jupyter-widgets/base",
          "model_name": "LayoutModel",
          "model_module_version": "1.2.0",
          "state": {
            "_model_module": "@jupyter-widgets/base",
            "_model_module_version": "1.2.0",
            "_model_name": "LayoutModel",
            "_view_count": null,
            "_view_module": "@jupyter-widgets/base",
            "_view_module_version": "1.2.0",
            "_view_name": "LayoutView",
            "align_content": null,
            "align_items": null,
            "align_self": null,
            "border": null,
            "bottom": null,
            "display": null,
            "flex": null,
            "flex_flow": null,
            "grid_area": null,
            "grid_auto_columns": null,
            "grid_auto_flow": null,
            "grid_auto_rows": null,
            "grid_column": null,
            "grid_gap": null,
            "grid_row": null,
            "grid_template_areas": null,
            "grid_template_columns": null,
            "grid_template_rows": null,
            "height": null,
            "justify_content": null,
            "justify_items": null,
            "left": null,
            "margin": null,
            "max_height": null,
            "max_width": null,
            "min_height": null,
            "min_width": null,
            "object_fit": null,
            "object_position": null,
            "order": null,
            "overflow": null,
            "overflow_x": null,
            "overflow_y": null,
            "padding": null,
            "right": null,
            "top": null,
            "visibility": null,
            "width": null
          }
        },
        "751e2848b379420ab33858b0aada0a53": {
          "model_module": "@jupyter-widgets/controls",
          "model_name": "DescriptionStyleModel",
          "model_module_version": "1.5.0",
          "state": {
            "_model_module": "@jupyter-widgets/controls",
            "_model_module_version": "1.5.0",
            "_model_name": "DescriptionStyleModel",
            "_view_count": null,
            "_view_module": "@jupyter-widgets/base",
            "_view_module_version": "1.2.0",
            "_view_name": "StyleView",
            "description_width": ""
          }
        }
      }
    }
  },
  "cells": [
    {
      "cell_type": "markdown",
      "metadata": {
        "id": "view-in-github",
        "colab_type": "text"
      },
      "source": [
        "<a href=\"https://colab.research.google.com/github/HandanYU/Rumour-detection/blob/handan/Untitled0.ipynb\" target=\"_parent\"><img src=\"https://colab.research.google.com/assets/colab-badge.svg\" alt=\"Open In Colab\"/></a>"
      ]
    },
    {
      "cell_type": "code",
      "execution_count": 67,
      "metadata": {
        "id": "5twm189IZhl3"
      },
      "outputs": [],
      "source": [
        "import pandas as pd\n",
        "from torch.utils.data import DataLoader, Dataset"
      ]
    },
    {
      "cell_type": "code",
      "source": [
        "dev_source_df = pd.read_csv('./dev_source_df.csv')"
      ],
      "metadata": {
        "id": "vxm2Qt91Zuwm"
      },
      "execution_count": 36,
      "outputs": []
    },
    {
      "cell_type": "code",
      "source": [
        "dev_source_df.columns"
      ],
      "metadata": {
        "colab": {
          "base_uri": "https://localhost:8080/"
        },
        "id": "TiIJKfPFblFm",
        "outputId": "08aafee0-9850-46d3-a2b6-e6bf803670ca"
      },
      "execution_count": 37,
      "outputs": [
        {
          "output_type": "execute_result",
          "data": {
            "text/plain": [
              "Index(['Unnamed: 0', 'text', 'reply_count', 'like_count', 'retweet_count',\n",
              "       'quote_count', 'possibly_sensitive', 'created_at', 'user_id', 'has_url',\n",
              "       'mentioned_url_num', 'id_num', 'tweet_id', 'label', 'reply',\n",
              "       'isweekday', 'followers_count', 'tweet_count'],\n",
              "      dtype='object')"
            ]
          },
          "metadata": {},
          "execution_count": 37
        }
      ]
    },
    {
      "cell_type": "code",
      "source": [
        "df = pd.read_csv(f'./dev_source_df.csv', usecols=['tweet_id', 'text', 'reply', 'label'])"
      ],
      "metadata": {
        "id": "wmDHgTZ2bwsx"
      },
      "execution_count": 182,
      "outputs": []
    },
    {
      "cell_type": "code",
      "source": [
        "df"
      ],
      "metadata": {
        "id": "lkR2nmT-cYwy",
        "colab": {
          "base_uri": "https://localhost:8080/",
          "height": 467
        },
        "outputId": "3669c28d-1641-4640-8509-eb9c6b63d5fa"
      },
      "execution_count": 183,
      "outputs": [
        {
          "output_type": "execute_result",
          "data": {
            "text/plain": [
              "                                                  text             tweet_id  \\\n",
              "0    covid fact hand dryer effect kill new coronavi...  1249004694950817796   \n",
              "1    expect result husband pend antibodi test pleas...  1267552274819227649   \n",
              "2    covid spread peopl catch covid other diseas sp...  1235238334722699265   \n",
              "3    everi news outlet use headlin like antibiot ef...  1248746792914546688   \n",
              "4    research encount goliath birdeat world largest...   523820806917603328   \n",
              "..                                                 ...                  ...   \n",
              "533  cure covid howev sever ongo clinic trial inclu...  1249582429565829120   \n",
              "534       specul arrest banksi debut new mural bristol   524881688825167872   \n",
              "535  question answer red question mark repli number...  1240908749256232960   \n",
              "536  anonym oper kkk klux klan never stop watch opk...   661102820976930816   \n",
              "537  expos sun temperatur higher degre prevent coro...  1248261299160612870   \n",
              "\n",
              "         label                                              reply  \n",
              "0    nonrumour                                1249011200068730880  \n",
              "1    nonrumour            1270394169836568576,1270502071175909376  \n",
              "2    nonrumour  1235234904281165825,1235234927937048577,123523...  \n",
              "3    nonrumour                                1248775858120097792  \n",
              "4    nonrumour  523821510042353664,523822210071658496,52382235...  \n",
              "..         ...                                                ...  \n",
              "533  nonrumour  1249582412004306944,1249582416827727872,124958...  \n",
              "534     rumour              524882269941809153,525128786074173440  \n",
              "535  nonrumour            1240908751063965696,1240908752842362881  \n",
              "536     rumour              661241325237444608,661250292550270976  \n",
              "537  nonrumour  1248260447821869061,1248260618991304712,124826...  \n",
              "\n",
              "[538 rows x 4 columns]"
            ],
            "text/html": [
              "\n",
              "  <div id=\"df-a2b97841-be46-4697-af51-0ee33d3c0f78\">\n",
              "    <div class=\"colab-df-container\">\n",
              "      <div>\n",
              "<style scoped>\n",
              "    .dataframe tbody tr th:only-of-type {\n",
              "        vertical-align: middle;\n",
              "    }\n",
              "\n",
              "    .dataframe tbody tr th {\n",
              "        vertical-align: top;\n",
              "    }\n",
              "\n",
              "    .dataframe thead th {\n",
              "        text-align: right;\n",
              "    }\n",
              "</style>\n",
              "<table border=\"1\" class=\"dataframe\">\n",
              "  <thead>\n",
              "    <tr style=\"text-align: right;\">\n",
              "      <th></th>\n",
              "      <th>text</th>\n",
              "      <th>tweet_id</th>\n",
              "      <th>label</th>\n",
              "      <th>reply</th>\n",
              "    </tr>\n",
              "  </thead>\n",
              "  <tbody>\n",
              "    <tr>\n",
              "      <th>0</th>\n",
              "      <td>covid fact hand dryer effect kill new coronavi...</td>\n",
              "      <td>1249004694950817796</td>\n",
              "      <td>nonrumour</td>\n",
              "      <td>1249011200068730880</td>\n",
              "    </tr>\n",
              "    <tr>\n",
              "      <th>1</th>\n",
              "      <td>expect result husband pend antibodi test pleas...</td>\n",
              "      <td>1267552274819227649</td>\n",
              "      <td>nonrumour</td>\n",
              "      <td>1270394169836568576,1270502071175909376</td>\n",
              "    </tr>\n",
              "    <tr>\n",
              "      <th>2</th>\n",
              "      <td>covid spread peopl catch covid other diseas sp...</td>\n",
              "      <td>1235238334722699265</td>\n",
              "      <td>nonrumour</td>\n",
              "      <td>1235234904281165825,1235234927937048577,123523...</td>\n",
              "    </tr>\n",
              "    <tr>\n",
              "      <th>3</th>\n",
              "      <td>everi news outlet use headlin like antibiot ef...</td>\n",
              "      <td>1248746792914546688</td>\n",
              "      <td>nonrumour</td>\n",
              "      <td>1248775858120097792</td>\n",
              "    </tr>\n",
              "    <tr>\n",
              "      <th>4</th>\n",
              "      <td>research encount goliath birdeat world largest...</td>\n",
              "      <td>523820806917603328</td>\n",
              "      <td>nonrumour</td>\n",
              "      <td>523821510042353664,523822210071658496,52382235...</td>\n",
              "    </tr>\n",
              "    <tr>\n",
              "      <th>...</th>\n",
              "      <td>...</td>\n",
              "      <td>...</td>\n",
              "      <td>...</td>\n",
              "      <td>...</td>\n",
              "    </tr>\n",
              "    <tr>\n",
              "      <th>533</th>\n",
              "      <td>cure covid howev sever ongo clinic trial inclu...</td>\n",
              "      <td>1249582429565829120</td>\n",
              "      <td>nonrumour</td>\n",
              "      <td>1249582412004306944,1249582416827727872,124958...</td>\n",
              "    </tr>\n",
              "    <tr>\n",
              "      <th>534</th>\n",
              "      <td>specul arrest banksi debut new mural bristol</td>\n",
              "      <td>524881688825167872</td>\n",
              "      <td>rumour</td>\n",
              "      <td>524882269941809153,525128786074173440</td>\n",
              "    </tr>\n",
              "    <tr>\n",
              "      <th>535</th>\n",
              "      <td>question answer red question mark repli number...</td>\n",
              "      <td>1240908749256232960</td>\n",
              "      <td>nonrumour</td>\n",
              "      <td>1240908751063965696,1240908752842362881</td>\n",
              "    </tr>\n",
              "    <tr>\n",
              "      <th>536</th>\n",
              "      <td>anonym oper kkk klux klan never stop watch opk...</td>\n",
              "      <td>661102820976930816</td>\n",
              "      <td>rumour</td>\n",
              "      <td>661241325237444608,661250292550270976</td>\n",
              "    </tr>\n",
              "    <tr>\n",
              "      <th>537</th>\n",
              "      <td>expos sun temperatur higher degre prevent coro...</td>\n",
              "      <td>1248261299160612870</td>\n",
              "      <td>nonrumour</td>\n",
              "      <td>1248260447821869061,1248260618991304712,124826...</td>\n",
              "    </tr>\n",
              "  </tbody>\n",
              "</table>\n",
              "<p>538 rows × 4 columns</p>\n",
              "</div>\n",
              "      <button class=\"colab-df-convert\" onclick=\"convertToInteractive('df-a2b97841-be46-4697-af51-0ee33d3c0f78')\"\n",
              "              title=\"Convert this dataframe to an interactive table.\"\n",
              "              style=\"display:none;\">\n",
              "        \n",
              "  <svg xmlns=\"http://www.w3.org/2000/svg\" height=\"24px\"viewBox=\"0 0 24 24\"\n",
              "       width=\"24px\">\n",
              "    <path d=\"M0 0h24v24H0V0z\" fill=\"none\"/>\n",
              "    <path d=\"M18.56 5.44l.94 2.06.94-2.06 2.06-.94-2.06-.94-.94-2.06-.94 2.06-2.06.94zm-11 1L8.5 8.5l.94-2.06 2.06-.94-2.06-.94L8.5 2.5l-.94 2.06-2.06.94zm10 10l.94 2.06.94-2.06 2.06-.94-2.06-.94-.94-2.06-.94 2.06-2.06.94z\"/><path d=\"M17.41 7.96l-1.37-1.37c-.4-.4-.92-.59-1.43-.59-.52 0-1.04.2-1.43.59L10.3 9.45l-7.72 7.72c-.78.78-.78 2.05 0 2.83L4 21.41c.39.39.9.59 1.41.59.51 0 1.02-.2 1.41-.59l7.78-7.78 2.81-2.81c.8-.78.8-2.07 0-2.86zM5.41 20L4 18.59l7.72-7.72 1.47 1.35L5.41 20z\"/>\n",
              "  </svg>\n",
              "      </button>\n",
              "      \n",
              "  <style>\n",
              "    .colab-df-container {\n",
              "      display:flex;\n",
              "      flex-wrap:wrap;\n",
              "      gap: 12px;\n",
              "    }\n",
              "\n",
              "    .colab-df-convert {\n",
              "      background-color: #E8F0FE;\n",
              "      border: none;\n",
              "      border-radius: 50%;\n",
              "      cursor: pointer;\n",
              "      display: none;\n",
              "      fill: #1967D2;\n",
              "      height: 32px;\n",
              "      padding: 0 0 0 0;\n",
              "      width: 32px;\n",
              "    }\n",
              "\n",
              "    .colab-df-convert:hover {\n",
              "      background-color: #E2EBFA;\n",
              "      box-shadow: 0px 1px 2px rgba(60, 64, 67, 0.3), 0px 1px 3px 1px rgba(60, 64, 67, 0.15);\n",
              "      fill: #174EA6;\n",
              "    }\n",
              "\n",
              "    [theme=dark] .colab-df-convert {\n",
              "      background-color: #3B4455;\n",
              "      fill: #D2E3FC;\n",
              "    }\n",
              "\n",
              "    [theme=dark] .colab-df-convert:hover {\n",
              "      background-color: #434B5C;\n",
              "      box-shadow: 0px 1px 3px 1px rgba(0, 0, 0, 0.15);\n",
              "      filter: drop-shadow(0px 1px 2px rgba(0, 0, 0, 0.3));\n",
              "      fill: #FFFFFF;\n",
              "    }\n",
              "  </style>\n",
              "\n",
              "      <script>\n",
              "        const buttonEl =\n",
              "          document.querySelector('#df-a2b97841-be46-4697-af51-0ee33d3c0f78 button.colab-df-convert');\n",
              "        buttonEl.style.display =\n",
              "          google.colab.kernel.accessAllowed ? 'block' : 'none';\n",
              "\n",
              "        async function convertToInteractive(key) {\n",
              "          const element = document.querySelector('#df-a2b97841-be46-4697-af51-0ee33d3c0f78');\n",
              "          const dataTable =\n",
              "            await google.colab.kernel.invokeFunction('convertToInteractive',\n",
              "                                                     [key], {});\n",
              "          if (!dataTable) return;\n",
              "\n",
              "          const docLinkHtml = 'Like what you see? Visit the ' +\n",
              "            '<a target=\"_blank\" href=https://colab.research.google.com/notebooks/data_table.ipynb>data table notebook</a>'\n",
              "            + ' to learn more about interactive tables.';\n",
              "          element.innerHTML = '';\n",
              "          dataTable['output_type'] = 'display_data';\n",
              "          await google.colab.output.renderOutput(dataTable, element);\n",
              "          const docLink = document.createElement('div');\n",
              "          docLink.innerHTML = docLinkHtml;\n",
              "          element.appendChild(docLink);\n",
              "        }\n",
              "      </script>\n",
              "    </div>\n",
              "  </div>\n",
              "  "
            ]
          },
          "metadata": {},
          "execution_count": 183
        }
      ]
    },
    {
      "cell_type": "code",
      "source": [
        "1270394169836568576 in a"
      ],
      "metadata": {
        "colab": {
          "base_uri": "https://localhost:8080/"
        },
        "id": "rGE-r7Tceu0E",
        "outputId": "c3a5dbb7-3337-4ca1-e376-c58f023ac6a3"
      },
      "execution_count": null,
      "outputs": [
        {
          "output_type": "execute_result",
          "data": {
            "text/plain": [
              "True"
            ]
          },
          "metadata": {},
          "execution_count": 29
        }
      ]
    },
    {
      "cell_type": "code",
      "source": [
        "import numpy as np\n",
        "d['text'] = d['text'].replace(np.nan, '') "
      ],
      "metadata": {
        "id": "JRKIC3iKfL5o"
      },
      "execution_count": 44,
      "outputs": []
    },
    {
      "cell_type": "code",
      "source": [
        "type(d['tweet_id'].iloc[0])"
      ],
      "metadata": {
        "colab": {
          "base_uri": "https://localhost:8080/"
        },
        "id": "EShmjc0TgqM6",
        "outputId": "b3cea1f6-a04b-461f-ad34-2ff8b16bc4ef"
      },
      "execution_count": 50,
      "outputs": [
        {
          "output_type": "execute_result",
          "data": {
            "text/plain": [
              "numpy.int64"
            ]
          },
          "metadata": {},
          "execution_count": 50
        }
      ]
    },
    {
      "cell_type": "code",
      "source": [
        "1270394169836568576 in d.tweet_id.values"
      ],
      "metadata": {
        "colab": {
          "base_uri": "https://localhost:8080/"
        },
        "id": "Xj9ndfwAhISW",
        "outputId": "ffaef998-026c-46eb-de61-30c3871020b6"
      },
      "execution_count": 59,
      "outputs": [
        {
          "output_type": "execute_result",
          "data": {
            "text/plain": [
              "True"
            ]
          },
          "metadata": {},
          "execution_count": 59
        }
      ]
    },
    {
      "cell_type": "code",
      "source": [
        "d.index = d['tweet_id']"
      ],
      "metadata": {
        "id": "VQUGP-O0hiIA"
      },
      "execution_count": 60,
      "outputs": []
    },
    {
      "cell_type": "code",
      "source": [
        "t = ''\n",
        "for i in df.iloc[1]['reply'].split(','):\n",
        "  t += d.loc[int(i)]['text']"
      ],
      "metadata": {
        "id": "OeCIVd6Fecgg"
      },
      "execution_count": 62,
      "outputs": []
    },
    {
      "cell_type": "code",
      "source": [
        "!pip install transformers"
      ],
      "metadata": {
        "colab": {
          "base_uri": "https://localhost:8080/"
        },
        "id": "KC9tqtxTfgDX",
        "outputId": "fa30c49b-1e6e-48fc-f823-07046ec2dffd"
      },
      "execution_count": 82,
      "outputs": [
        {
          "output_type": "stream",
          "name": "stdout",
          "text": [
            "Collecting transformers\n",
            "  Downloading transformers-4.18.0-py3-none-any.whl (4.0 MB)\n",
            "\u001b[K     |████████████████████████████████| 4.0 MB 28.2 MB/s \n",
            "\u001b[?25hRequirement already satisfied: importlib-metadata in /usr/local/lib/python3.7/dist-packages (from transformers) (4.11.3)\n",
            "Requirement already satisfied: regex!=2019.12.17 in /usr/local/lib/python3.7/dist-packages (from transformers) (2019.12.20)\n",
            "Requirement already satisfied: requests in /usr/local/lib/python3.7/dist-packages (from transformers) (2.23.0)\n",
            "Requirement already satisfied: tqdm>=4.27 in /usr/local/lib/python3.7/dist-packages (from transformers) (4.64.0)\n",
            "Collecting pyyaml>=5.1\n",
            "  Downloading PyYAML-6.0-cp37-cp37m-manylinux_2_5_x86_64.manylinux1_x86_64.manylinux_2_12_x86_64.manylinux2010_x86_64.whl (596 kB)\n",
            "\u001b[K     |████████████████████████████████| 596 kB 50.2 MB/s \n",
            "\u001b[?25hRequirement already satisfied: filelock in /usr/local/lib/python3.7/dist-packages (from transformers) (3.6.0)\n",
            "Requirement already satisfied: numpy>=1.17 in /usr/local/lib/python3.7/dist-packages (from transformers) (1.21.5)\n",
            "Collecting huggingface-hub<1.0,>=0.1.0\n",
            "  Downloading huggingface_hub-0.5.1-py3-none-any.whl (77 kB)\n",
            "\u001b[K     |████████████████████████████████| 77 kB 6.7 MB/s \n",
            "\u001b[?25hRequirement already satisfied: packaging>=20.0 in /usr/local/lib/python3.7/dist-packages (from transformers) (21.3)\n",
            "Collecting sacremoses\n",
            "  Downloading sacremoses-0.0.49-py3-none-any.whl (895 kB)\n",
            "\u001b[K     |████████████████████████████████| 895 kB 52.0 MB/s \n",
            "\u001b[?25hCollecting tokenizers!=0.11.3,<0.13,>=0.11.1\n",
            "  Downloading tokenizers-0.12.1-cp37-cp37m-manylinux_2_12_x86_64.manylinux2010_x86_64.whl (6.6 MB)\n",
            "\u001b[K     |████████████████████████████████| 6.6 MB 22.0 MB/s \n",
            "\u001b[?25hRequirement already satisfied: typing-extensions>=3.7.4.3 in /usr/local/lib/python3.7/dist-packages (from huggingface-hub<1.0,>=0.1.0->transformers) (4.1.1)\n",
            "Requirement already satisfied: pyparsing!=3.0.5,>=2.0.2 in /usr/local/lib/python3.7/dist-packages (from packaging>=20.0->transformers) (3.0.8)\n",
            "Requirement already satisfied: zipp>=0.5 in /usr/local/lib/python3.7/dist-packages (from importlib-metadata->transformers) (3.8.0)\n",
            "Requirement already satisfied: idna<3,>=2.5 in /usr/local/lib/python3.7/dist-packages (from requests->transformers) (2.10)\n",
            "Requirement already satisfied: urllib3!=1.25.0,!=1.25.1,<1.26,>=1.21.1 in /usr/local/lib/python3.7/dist-packages (from requests->transformers) (1.24.3)\n",
            "Requirement already satisfied: certifi>=2017.4.17 in /usr/local/lib/python3.7/dist-packages (from requests->transformers) (2021.10.8)\n",
            "Requirement already satisfied: chardet<4,>=3.0.2 in /usr/local/lib/python3.7/dist-packages (from requests->transformers) (3.0.4)\n",
            "Requirement already satisfied: click in /usr/local/lib/python3.7/dist-packages (from sacremoses->transformers) (7.1.2)\n",
            "Requirement already satisfied: joblib in /usr/local/lib/python3.7/dist-packages (from sacremoses->transformers) (1.1.0)\n",
            "Requirement already satisfied: six in /usr/local/lib/python3.7/dist-packages (from sacremoses->transformers) (1.15.0)\n",
            "Installing collected packages: pyyaml, tokenizers, sacremoses, huggingface-hub, transformers\n",
            "  Attempting uninstall: pyyaml\n",
            "    Found existing installation: PyYAML 3.13\n",
            "    Uninstalling PyYAML-3.13:\n",
            "      Successfully uninstalled PyYAML-3.13\n",
            "Successfully installed huggingface-hub-0.5.1 pyyaml-6.0 sacremoses-0.0.49 tokenizers-0.12.1 transformers-4.18.0\n"
          ]
        }
      ]
    },
    {
      "cell_type": "code",
      "source": [
        "from transformers import DistilBertTokenizerFast, BertModel\n",
        "class TextDataset(Dataset):\n",
        "  def __init__(self, data_type, max_seq_len):\n",
        "    self.max_seq_len = max_seq_len\n",
        "    # read pre-processed data\n",
        "    self.source_df = pd.read_csv(f'./{data_type}_source_df.csv', usecols=['tweet_id', 'text', 'reply', 'label'])\n",
        "    self.source_df['text'] = self.source_df['text'].replace(np.nan, '')\n",
        "    self.source_df['reply'] = self.source_df['reply'].replace(np.nan, '')\n",
        "    self.reply_df = pd.read_csv(f'./{data_type}_reply_df.csv', usecols=['tweet_id', 'text'])\n",
        "    self.reply_df.index = self.reply_df['tweet_id']\n",
        "    self.reply_df['text'] = self.reply_df['text'].replace(np.nan, '')  # replace nan\n",
        "    # define tokenizer\n",
        "    self.tokenizer = DistilBertTokenizerFast.from_pretrained(\"bert-base-uncased\")\n",
        "\n",
        "  def __len__(self):\n",
        "    return self.source_df.shape[0]\n",
        "\n",
        "  def __getitem__(self, idx):\n",
        "    replies_txt = ''\n",
        "    if self.source_df.iloc[idx]['reply'] != '':\n",
        "      for r in self.source_df.iloc[idx]['reply'].split(','):\n",
        "        replies_txt += self.reply_df.loc[int(r)]['text']\n",
        "    # Tokenize as a pair of sequences\n",
        "    token_mask = self.tokenizer(self.source_df.iloc[idx]['text'], replies_txt, truncation=True, padding='max_length', max_length=self.max_seq_len)\n",
        "    tokens_tensor, mask_tensor = token_mask['input_ids'], token_mask['attention_mask']\n",
        "    return torch.tensor(tokens_tensor), torch.tensor(mask_tensor), self.source_df.iloc[idx]['label']"
      ],
      "metadata": {
        "id": "4j6Qt1tgZ01x"
      },
      "execution_count": 195,
      "outputs": []
    },
    {
      "cell_type": "code",
      "source": [
        "train_loader = DataLoader(TextDataset('train', 200), shuffle=True, batch_size=20, drop_last=True)\n",
        "dev_loader = DataLoader(TextDataset('dev', 200), shuffle=True, batch_size=20, drop_last=True)\n"
      ],
      "metadata": {
        "colab": {
          "base_uri": "https://localhost:8080/"
        },
        "id": "xKM999JzpwCR",
        "outputId": "9e5b1764-b9a0-4bbd-a1ee-3346340aa203"
      },
      "execution_count": 196,
      "outputs": [
        {
          "output_type": "stream",
          "name": "stderr",
          "text": [
            "The tokenizer class you load from this checkpoint is not the same type as the class this function is called from. It may result in unexpected tokenization. \n",
            "The tokenizer class you load from this checkpoint is 'BertTokenizer'. \n",
            "The class this function is called from is 'DistilBertTokenizerFast'.\n",
            "The tokenizer class you load from this checkpoint is not the same type as the class this function is called from. It may result in unexpected tokenization. \n",
            "The tokenizer class you load from this checkpoint is 'BertTokenizer'. \n",
            "The class this function is called from is 'DistilBertTokenizerFast'.\n"
          ]
        }
      ]
    },
    {
      "cell_type": "code",
      "source": [
        "import torch\n",
        "import torch.nn as nn\n",
        "\n",
        "# class RMDClassifier(nn.Module):\n",
        "#   def __init__(self):\n",
        "#     super(RMDClassifier, self).__init__()\n",
        "#     self.embedding_layer = BertModel.from_pretrained('bert-base-uncased')\n",
        "#     self."
      ],
      "metadata": {
        "id": "1bvwemdmrKZa"
      },
      "execution_count": 194,
      "outputs": []
    },
    {
      "cell_type": "code",
      "source": [
        "embedding_layer = BertModel.from_pretrained('bert-base-uncased')"
      ],
      "metadata": {
        "colab": {
          "base_uri": "https://localhost:8080/",
          "height": 122,
          "referenced_widgets": [
            "0d7936ba61704456bc0c15ca814e93ac",
            "bf5e221221a0471aa988824bbe3be32e",
            "86ec4a5c9ff34384afd15de8f1b7827a",
            "b2b0fbe343ce44c5bf5efc31f517bf9d",
            "8cc11ec884e244088906473bf935547e",
            "31a7a2385be94025b615901202cb3550",
            "847d6b1c886d477d96f606866f75e48f",
            "b30120c1e4614a41a0f1060c82e8c993",
            "eb96482bee3648beadd7e2cd36750e54",
            "ae81b1d6bc3c487f823bb1f5555f51aa",
            "751e2848b379420ab33858b0aada0a53"
          ]
        },
        "id": "v_iOJq5Mwnmg",
        "outputId": "a599215a-3752-4ffa-f27e-0108d0680036"
      },
      "execution_count": 188,
      "outputs": [
        {
          "output_type": "display_data",
          "data": {
            "text/plain": [
              "Downloading:   0%|          | 0.00/420M [00:00<?, ?B/s]"
            ],
            "application/vnd.jupyter.widget-view+json": {
              "version_major": 2,
              "version_minor": 0,
              "model_id": "0d7936ba61704456bc0c15ca814e93ac"
            }
          },
          "metadata": {}
        },
        {
          "output_type": "stream",
          "name": "stderr",
          "text": [
            "Some weights of the model checkpoint at bert-base-uncased were not used when initializing BertModel: ['cls.seq_relationship.weight', 'cls.predictions.transform.dense.weight', 'cls.predictions.transform.LayerNorm.weight', 'cls.predictions.transform.dense.bias', 'cls.predictions.transform.LayerNorm.bias', 'cls.seq_relationship.bias', 'cls.predictions.bias', 'cls.predictions.decoder.weight']\n",
            "- This IS expected if you are initializing BertModel from the checkpoint of a model trained on another task or with another architecture (e.g. initializing a BertForSequenceClassification model from a BertForPreTraining model).\n",
            "- This IS NOT expected if you are initializing BertModel from the checkpoint of a model that you expect to be exactly identical (initializing a BertForSequenceClassification model from a BertForSequenceClassification model).\n"
          ]
        }
      ]
    },
    {
      "cell_type": "code",
      "source": [
        "for i, (x, m, y) in enumerate(dev_loader):\n",
        "  print(type(x))\n",
        "  print(type(m))\n",
        "  print(embedding_layer(x, m))\n",
        "  break"
      ],
      "metadata": {
        "colab": {
          "base_uri": "https://localhost:8080/"
        },
        "id": "7mmvHd0Iw0ai",
        "outputId": "ed08b240-10bf-4038-eeba-98acb42c6925"
      },
      "execution_count": 197,
      "outputs": [
        {
          "output_type": "stream",
          "name": "stdout",
          "text": [
            "<class 'torch.Tensor'>\n",
            "<class 'torch.Tensor'>\n",
            "BaseModelOutputWithPoolingAndCrossAttentions(last_hidden_state=tensor([[[-0.2693, -0.0596, -0.0736,  ..., -0.1670,  0.3294,  0.1745],\n",
            "         [-0.0100, -0.1317,  0.2714,  ...,  0.1994,  0.2434, -0.5131],\n",
            "         [ 0.9236,  0.4563, -0.3472,  ..., -0.3352, -0.1212, -0.1620],\n",
            "         ...,\n",
            "         [ 0.0935, -0.3514,  0.0980,  ..., -0.0533,  0.3606,  0.7028],\n",
            "         [-0.3639, -0.3102, -0.5542,  ...,  0.1350,  0.2862, -0.0213],\n",
            "         [ 0.3913,  0.2496, -0.3864,  ..., -0.0493, -0.3532, -0.4082]],\n",
            "\n",
            "        [[-0.2733, -0.0407,  0.2051,  ..., -0.1275,  0.3319,  0.0431],\n",
            "         [ 0.6405, -0.4442,  0.8065,  ...,  0.0715,  0.5384,  0.6423],\n",
            "         [ 0.4876, -0.1072,  0.5885,  ...,  0.0993,  0.1700, -0.0555],\n",
            "         ...,\n",
            "         [ 0.1871,  0.1358,  0.4238,  ...,  0.1770, -0.0917, -0.1142],\n",
            "         [ 0.2179,  0.0884,  0.4605,  ...,  0.1948,  0.0530,  0.0317],\n",
            "         [ 0.1613,  0.1454,  0.5068,  ...,  0.1257, -0.0750,  0.0216]],\n",
            "\n",
            "        [[-0.6141, -0.2935, -0.0855,  ..., -0.3045,  0.2476,  0.4955],\n",
            "         [-0.0758,  0.2726,  0.2946,  ..., -0.2589,  0.8715, -1.2810],\n",
            "         [ 0.7648, -0.0546,  0.9057,  ..., -0.3886,  0.7242,  0.5615],\n",
            "         ...,\n",
            "         [ 0.0703, -0.1181,  0.2839,  ..., -0.1629,  0.0321,  0.0317],\n",
            "         [-0.1714, -0.0360,  0.6196,  ...,  0.2740, -0.1099,  0.1700],\n",
            "         [ 0.0116, -0.1237,  0.4753,  ...,  0.1142, -0.1555, -0.1443]],\n",
            "\n",
            "        ...,\n",
            "\n",
            "        [[-0.6581,  0.0802,  0.3795,  ..., -0.2640,  0.2385,  0.3454],\n",
            "         [-0.4448, -0.9666,  0.3745,  ...,  0.3622,  0.6897,  0.1820],\n",
            "         [-1.6548, -0.4319,  0.8444,  ...,  0.0991,  0.2843, -0.4209],\n",
            "         ...,\n",
            "         [-0.2242, -0.1382,  0.4762,  ..., -0.0254, -0.0652, -0.0275],\n",
            "         [-0.2032, -0.2648,  0.3548,  ...,  0.0412, -0.1869,  0.0257],\n",
            "         [-0.1653, -0.1851,  0.3297,  ...,  0.0982, -0.0919, -0.0965]],\n",
            "\n",
            "        [[-0.9276, -0.2165, -0.2045,  ..., -0.3324,  0.6865,  0.1578],\n",
            "         [ 0.8599, -0.3081, -0.0154,  ..., -0.2303,  0.7419,  0.2282],\n",
            "         [ 0.3465, -0.2573,  0.1125,  ..., -0.7580,  0.3176,  0.2880],\n",
            "         ...,\n",
            "         [-0.4546,  0.1185,  0.2063,  ..., -0.1715, -0.1510, -0.0768],\n",
            "         [-0.4749,  0.1251,  0.1503,  ..., -0.2051, -0.1304, -0.0768],\n",
            "         [-0.4965,  0.1196,  0.1559,  ..., -0.1877, -0.1026, -0.1145]],\n",
            "\n",
            "        [[-0.3552,  0.1443, -0.0035,  ..., -0.3269,  0.5297,  0.3604],\n",
            "         [-0.4582, -0.4990,  0.5931,  ..., -0.5608,  0.8944,  0.3861],\n",
            "         [ 0.4675, -0.2822,  0.1254,  ..., -0.0464,  0.0840,  0.6783],\n",
            "         ...,\n",
            "         [-0.1221,  0.0183,  0.4552,  ..., -0.1435,  0.0690,  0.2062],\n",
            "         [-0.5366, -0.3365,  0.4216,  ...,  0.1882,  0.0464,  0.4756],\n",
            "         [-0.0704,  0.0392,  0.4272,  ..., -0.0822,  0.1189,  0.0982]]],\n",
            "       grad_fn=<NativeLayerNormBackward0>), pooler_output=tensor([[-0.6699, -0.2709, -0.1455,  ..., -0.2389, -0.5545,  0.6853],\n",
            "        [-0.7890, -0.3959, -0.4185,  ..., -0.0022, -0.5911,  0.8383],\n",
            "        [-0.6323, -0.5466, -0.9635,  ..., -0.8724, -0.5432,  0.3425],\n",
            "        ...,\n",
            "        [-0.7612, -0.3681, -0.6800,  ..., -0.3282, -0.5056,  0.7265],\n",
            "        [-0.8378, -0.6279, -0.9769,  ..., -0.8894, -0.7093,  0.7030],\n",
            "        [-0.7593, -0.4209, -0.7536,  ..., -0.5700, -0.5882,  0.8593]],\n",
            "       grad_fn=<TanhBackward0>), hidden_states=None, past_key_values=None, attentions=None, cross_attentions=None)\n"
          ]
        }
      ]
    },
    {
      "cell_type": "code",
      "source": [
        "def train(classifier, criterion, optimizer, train_loader, dev_loader, max_eps, gpu):\n",
        "    best_acc = 0\n",
        "    st = time.time()\n",
        "    for ep in range(max_eps):\n",
        "        classifier.train()\n",
        "        for iter, (seq_tokens, atten_mask, label) in enumerate(train_loader):\n",
        "            # Clear gradients\n",
        "            optimizer.zero_grad()\n",
        "            # Converting these elements to cuda tensors\n",
        "            seq_tokens, atten_mask, label = seq_tokens.cuda(gpu), atten_mask.cuda(gpu), label.cuda(gpu)\n",
        "            # Get prediction\n",
        "            pred = classifier(seq_tokens, atten_mask)\n",
        "            # Get loss\n",
        "            loss = loss_fn(pre.squeeze(-1), label.float())\n",
        "            # Backpropagating the gradients\n",
        "            loss.backward()\n",
        "            optimizer.step()\n",
        "\n",
        "            if it % 100 == 0:\n",
        "                acc = get_accuracy_from_logits(pred, label)\n",
        "                print(\"Iteration {} of epoch {} complete. Loss: {}; Accuracy: {}; Time taken (s): {}\".format(iter, ep, loss.item(), acc, (time.time()-st)))\n",
        "                st = time.time()\n",
        "        # evaluate on dev-data\n",
        "        dev_acc, dev_loss = evaluate(classifier, loss_fn, dev_loader, gpu)\n",
        "        print(\"Epoch {} complete! Development Accuracy: {}; Development Loss: {}\".format(ep, dev_acc, dev_loss))\n",
        "        if dev_acc > best_acc:\n",
        "            print(\"Best development accuracy improved from {} to {}, saving model...\".format(best_acc, dev_acc))\n",
        "            best_acc = dev_acc\n",
        "            torch.save(classifier.state_dict(), 'sstcls_{}.dat'.format(ep))\n"
      ],
      "metadata": {
        "id": "BXXiveEnprXQ"
      },
      "execution_count": 184,
      "outputs": []
    },
    {
      "cell_type": "code",
      "source": [
        "def train(model, criterion, optimizer, train_loader, dev_loader, max_eps, gpu):\n",
        "  "
      ],
      "metadata": {
        "id": "H0Yn2tXdoeRo"
      },
      "execution_count": null,
      "outputs": []
    }
  ]
}