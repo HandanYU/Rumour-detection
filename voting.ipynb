{
 "cells": [
  {
   "cell_type": "code",
   "execution_count": 1,
   "id": "6a0004cd-5f29-4cf0-aa7c-0d116bc54373",
   "metadata": {},
   "outputs": [
    {
     "name": "stderr",
     "output_type": "stream",
     "text": [
      "C:\\Users\\trist\\anaconda3\\envs\\Pytorch\\lib\\site-packages\\xgboost\\compat.py:36: FutureWarning: pandas.Int64Index is deprecated and will be removed from pandas in a future version. Use pandas.Index with the appropriate dtype instead.\n",
      "  from pandas import MultiIndex, Int64Index\n"
     ]
    }
   ],
   "source": [
    "import numpy as np\n",
    "import matplotlib.pyplot as plt\n",
    "import seaborn as sns\n",
    "import pandas as pd\n",
    "from pandas import DataFrame, Series\n",
    "import torch\n",
    "from tqdm import tqdm\n",
    "import torch.nn as nn\n",
    "import torch.utils.data as Data\n",
    "import torch.optim as optim\n",
    "from sklearn.metrics import accuracy_score\n",
    "from sklearn.metrics import precision_recall_fscore_support\n",
    "from sklearn.neighbors import KNeighborsClassifier\n",
    "from sklearn.linear_model import LogisticRegression\n",
    "from transformers import BertModel\n",
    "from transformers import BertTokenizer\n",
    "import lightgbm as lgb\n",
    "import xgboost as xgb\n",
    "import optuna\n",
    "from sklearn.ensemble import RandomForestClassifier\n",
    "from imblearn.over_sampling import SMOTE,KMeansSMOTE, SVMSMOTE\n",
    "from imblearn.combine import SMOTEENN\n",
    "from sklearn.metrics import roc_auc_score\n",
    "import pickle"
   ]
  },
  {
   "cell_type": "code",
   "execution_count": 17,
   "id": "6ba6e0b8-8e34-4040-a61e-810c66b1d240",
   "metadata": {},
   "outputs": [],
   "source": [
    "pred1 = pd.read_csv('./predictions/1.csv')\n",
    "pred2 = pd.read_csv('./predictions/2.csv')\n",
    "pred3 = pd.read_csv('./predictions/3.csv')\n",
    "# pred4 = pd.read_csv('./predictions/4.csv')\n",
    "# pred5 = pd.read_csv('./predictions/5.csv')\n",
    "# pred6 = pd.read_csv('./predictions/6.csv')"
   ]
  },
  {
   "cell_type": "code",
   "execution_count": 18,
   "id": "85a04b22-2513-45fd-a780-3367ce198af4",
   "metadata": {},
   "outputs": [],
   "source": [
    "# preds = pred1+pred2+pred3+pred4+pred5+pred6\n",
    "# preds = pred1+pred2+pred3+pred4\n",
    "preds = pred1+pred2+pred3"
   ]
  },
  {
   "cell_type": "code",
   "execution_count": 19,
   "id": "1ad6667b-d4e3-481e-af74-f2cc9492418f",
   "metadata": {},
   "outputs": [],
   "source": [
    "preds.drop(columns=['Id'],inplace=True)"
   ]
  },
  {
   "cell_type": "code",
   "execution_count": 20,
   "id": "9bc9b59a-296a-4f82-b686-9fb596d4b26f",
   "metadata": {},
   "outputs": [],
   "source": [
    "preds = np.array(preds)"
   ]
  },
  {
   "cell_type": "code",
   "execution_count": 21,
   "id": "a6b10223-70bc-41c2-a3b0-82c4ce58d58c",
   "metadata": {},
   "outputs": [],
   "source": [
    "from collections import Counter\n",
    "a = list(preds.squeeze())"
   ]
  },
  {
   "cell_type": "code",
   "execution_count": 22,
   "id": "2e6f77e1-fb8f-434d-b632-630b415ee4f8",
   "metadata": {},
   "outputs": [
    {
     "data": {
      "text/plain": [
       "Counter({1: 3663, 3: 2398, 0: 6999, 2: 2906})"
      ]
     },
     "execution_count": 22,
     "metadata": {},
     "output_type": "execute_result"
    }
   ],
   "source": [
    "Counter(a)"
   ]
  },
  {
   "cell_type": "code",
   "execution_count": 23,
   "id": "c82c5933-ecf2-48ca-b293-ff6fd642fda3",
   "metadata": {},
   "outputs": [],
   "source": [
    "predictions = [1 if i >= 2 else 0 for i in a]"
   ]
  },
  {
   "cell_type": "code",
   "execution_count": 24,
   "id": "d5ccefe1-08a1-4d67-948c-1f33075dc0c5",
   "metadata": {},
   "outputs": [
    {
     "data": {
      "text/plain": [
       "5304"
      ]
     },
     "execution_count": 24,
     "metadata": {},
     "output_type": "execute_result"
    }
   ],
   "source": [
    "sum(predictions)"
   ]
  },
  {
   "cell_type": "code",
   "execution_count": 25,
   "id": "ac3817f3-0ca5-44f3-b52a-13f883f1f485",
   "metadata": {},
   "outputs": [],
   "source": [
    "pred_dict = {'Id':[i for i in range(len(predictions))], 'Predicted':predictions}\n",
    "pred_df = DataFrame(pred_dict)\n",
    "\n",
    "pred_df.Predicted = pred_df.Predicted.apply(lambda x: 1 if x > 0.5 else 0)\n",
    "\n",
    "pred_df.to_csv('covid_voting.csv', index=False)"
   ]
  },
  {
   "cell_type": "code",
   "execution_count": 26,
   "id": "d75a3792-e22c-446c-bfaa-e52745ceb564",
   "metadata": {},
   "outputs": [
    {
     "data": {
      "text/plain": [
       "5304"
      ]
     },
     "execution_count": 26,
     "metadata": {},
     "output_type": "execute_result"
    }
   ],
   "source": [
    "pred_df.Predicted.sum()"
   ]
  },
  {
   "cell_type": "code",
   "execution_count": 185,
   "id": "de3e820d-169f-4a7d-a855-d45c330d1cc2",
   "metadata": {},
   "outputs": [],
   "source": [
    "pred = pd.read_csv('predict.csv')\n",
    "pred = np.array(pred.Predicted)"
   ]
  },
  {
   "cell_type": "code",
   "execution_count": 189,
   "id": "b2ba86a9-568c-45f1-ac04-64e190465d3d",
   "metadata": {},
   "outputs": [
    {
     "data": {
      "text/plain": [
       "array([1, 1, 1, 1, 1, 1, 1, 1, 1, 1, 1, 1, 1, 1, 1, 1, 1, 1, 1, 1, 1])"
      ]
     },
     "execution_count": 189,
     "metadata": {},
     "output_type": "execute_result"
    }
   ],
   "source": [
    "predictions = np.array(predictions)\n",
    "predictions[pred != predictions]"
   ]
  },
  {
   "cell_type": "code",
   "execution_count": 14,
   "id": "0459d435-882c-497f-8665-f3dd5177a9ab",
   "metadata": {},
   "outputs": [
    {
     "data": {
      "text/plain": [
       "13608"
      ]
     },
     "execution_count": 14,
     "metadata": {},
     "output_type": "execute_result"
    }
   ],
   "source": [
    "(pred1.Predicted == pred2.Predicted).sum()"
   ]
  },
  {
   "cell_type": "code",
   "execution_count": 16,
   "id": "d5f56c09-bef6-4e52-8c71-1aabe2ed3902",
   "metadata": {},
   "outputs": [
    {
     "data": {
      "text/plain": [
       "10510"
      ]
     },
     "execution_count": 16,
     "metadata": {},
     "output_type": "execute_result"
    }
   ],
   "source": [
    "(pred2.Predicted == pred3.Predicted).sum()"
   ]
  },
  {
   "cell_type": "code",
   "execution_count": 27,
   "id": "308ffd49-b77a-46b3-8599-2e863c05969f",
   "metadata": {},
   "outputs": [
    {
     "data": {
      "text/plain": [
       "5977"
      ]
     },
     "execution_count": 27,
     "metadata": {},
     "output_type": "execute_result"
    }
   ],
   "source": [
    "pred2.Predicted.sum()"
   ]
  },
  {
   "cell_type": "code",
   "execution_count": 29,
   "id": "514282f8-bb34-4f79-b65e-66a9c4328332",
   "metadata": {},
   "outputs": [
    {
     "data": {
      "text/plain": [
       "5365"
      ]
     },
     "execution_count": 29,
     "metadata": {},
     "output_type": "execute_result"
    }
   ],
   "source": [
    "pred1.Predicted.sum()"
   ]
  },
  {
   "cell_type": "code",
   "execution_count": 30,
   "id": "0d23bedc-ad5f-432e-a0cd-b8de8aa3917d",
   "metadata": {},
   "outputs": [
    {
     "data": {
      "text/plain": [
       "5327"
      ]
     },
     "execution_count": 30,
     "metadata": {},
     "output_type": "execute_result"
    }
   ],
   "source": [
    "pred3.Predicted.sum()"
   ]
  },
  {
   "cell_type": "code",
   "execution_count": null,
   "id": "de38a8dc-f19a-44e8-86be-0dbfd92b1c99",
   "metadata": {},
   "outputs": [],
   "source": []
  }
 ],
 "metadata": {
  "kernelspec": {
   "display_name": "Pytorch",
   "language": "python",
   "name": "pytorch"
  },
  "language_info": {
   "codemirror_mode": {
    "name": "ipython",
    "version": 3
   },
   "file_extension": ".py",
   "mimetype": "text/x-python",
   "name": "python",
   "nbconvert_exporter": "python",
   "pygments_lexer": "ipython3",
   "version": "3.8.12"
  }
 },
 "nbformat": 4,
 "nbformat_minor": 5
}
